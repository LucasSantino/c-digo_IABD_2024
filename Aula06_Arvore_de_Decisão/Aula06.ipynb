{
 "cells": [
  {
   "cell_type": "code",
   "execution_count": null,
   "metadata": {},
   "outputs": [],
   "source": [
    "import numpy as np #biblioteca numpy\n",
    "#Fazer cálculos matematicos\n",
    "from sklearn.model_selection import train_test_split # importa da biblioteca sklerarn.model a biblioteca train test split\n",
    "#essa biblioteca train test split serve para dividir os dados\n",
    "#teste treino\n",
    "from sklearn.tree import DecisionTreeClassifier # vai importar  algaritimo da arvore de decição\n",
    "from sklearn import tree #importando a bibliotca para plotar a arvore\n",
    "import matplotlib.pyplot as plt #importa  biblioteca matplotlib\n",
    "import seaborn as sns # importa a biblioteca seaborn"
   ]
  },
  {
   "cell_type": "code",
   "execution_count": null,
   "metadata": {},
   "outputs": [],
   "source": [
    "#pip install scikit-learn"
   ]
  },
  {
   "cell_type": "code",
   "execution_count": null,
   "metadata": {},
   "outputs": [],
   "source": []
  }
 ],
 "metadata": {
  "language_info": {
   "name": "python"
  }
 },
 "nbformat": 4,
 "nbformat_minor": 2
}
