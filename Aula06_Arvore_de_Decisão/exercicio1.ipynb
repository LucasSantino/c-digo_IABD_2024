{
 "cells": [
  {
   "cell_type": "code",
   "execution_count": 49,
   "metadata": {},
   "outputs": [],
   "source": [
    "import numpy as np #importa a biblioteca numpy\n",
    "from sklearn.model_selection import train_test_split #importa biblioteca de testes\n",
    "from sklearn.tree import DecisionTreeClassifier #importa a arvore de decisão\n",
    "from sklearn import tree #importa a função tree para plotar a arvore\n",
    "from sklearn.metrics import accuracy_score #métrica de ácuracia do algoritimo\n",
    "from sklearn.metrics import confusion_matrix # importa matiz de confusão\n",
    "import pandas as pd #importa a biblioteca pandas\n",
    "import matplotlib.pyplot # importa a matplotlib\n",
    "import seaborn as sns # importa a seaborn"
   ]
  },
  {
   "cell_type": "code",
   "execution_count": 47,
   "metadata": {},
   "outputs": [],
   "source": [
    "#criando a base de dados\n",
    "data = pd.DataFrame({\n",
    "    'idade': [2,6,1,4,3,5],\n",
    "    'tempo': [50,200,20,150,100,180],\n",
    "    'falhas': [0,2,0,1,3,2],\n",
    "    'classif': ['necessita', 'necessita', 'necessita',\n",
    "                'não necessita', 'necessita', 'não necessita']\n",
    "})"
   ]
  },
  {
   "cell_type": "code",
   "execution_count": 48,
   "metadata": {},
   "outputs": [
    {
     "ename": "NameError",
     "evalue": "name 'confusion_matix' is not defined",
     "output_type": "error",
     "traceback": [
      "\u001b[1;31m---------------------------------------------------------------------------\u001b[0m",
      "\u001b[1;31mNameError\u001b[0m                                 Traceback (most recent call last)",
      "Cell \u001b[1;32mIn[48], line 9\u001b[0m\n\u001b[0;32m      7\u001b[0m prev \u001b[38;5;241m=\u001b[39m model\u001b[38;5;241m.\u001b[39mpredict(x_teste)\n\u001b[0;32m      8\u001b[0m acurracy \u001b[38;5;241m=\u001b[39m accuracy_score(y_teste,prev)\n\u001b[1;32m----> 9\u001b[0m matrix \u001b[38;5;241m=\u001b[39m \u001b[43mconfusion_matix\u001b[49m(y_teste,prev)\n\u001b[0;32m     10\u001b[0m \u001b[38;5;28mprint\u001b[39m(acurracy, matrix)\n\u001b[0;32m     11\u001b[0m fig \u001b[38;5;241m=\u001b[39m plt\u001b[38;5;241m.\u001b[39mfigure(figsize \u001b[38;5;241m=\u001b[39m (\u001b[38;5;241m10\u001b[39m,\u001b[38;5;241m8\u001b[39m))\n",
      "\u001b[1;31mNameError\u001b[0m: name 'confusion_matix' is not defined"
     ]
    }
   ],
   "source": [
    "x = np.array(data['tempo']) #pega a coluna de tempo do dataframe\n",
    "y = np.array(data['classif']) #pega a coluna de classificação do dataframe\n",
    "x_treino, x_teste, y_treino, y_teste = train_test_split(x.reshape(-1,1), y.reshape(-1,1), test_size=0.2,random_state=42)\n",
    "\n",
    "model = DecisionTreeClassifier()\n",
    "model.fit(x_treino, y_treino)\n",
    "prev = model.predict(x_teste)\n",
    "acurracy = accuracy_score(y_teste,prev)\n",
    "matrix = confusion_matix(y_teste,prev)\n",
    "print(acurracy, matrix)\n",
    "fig = plt.figure(figsize = (10,8))\n",
    "tree.plot_tree(model, feature_names=x.tolist(),class_names=y.tolist(),filled=True)\n",
    "plt.show()"
   ]
  }
 ],
 "metadata": {
  "kernelspec": {
   "display_name": "Python 3",
   "language": "python",
   "name": "python3"
  },
  "language_info": {
   "codemirror_mode": {
    "name": "ipython",
    "version": 3
   },
   "file_extension": ".py",
   "mimetype": "text/x-python",
   "name": "python",
   "nbconvert_exporter": "python",
   "pygments_lexer": "ipython3",
   "version": "3.11.4"
  }
 },
 "nbformat": 4,
 "nbformat_minor": 2
}
