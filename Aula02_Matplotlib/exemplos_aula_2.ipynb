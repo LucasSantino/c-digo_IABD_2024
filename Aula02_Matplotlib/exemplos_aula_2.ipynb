{
 "cells": [
  {
   "cell_type": "code",
   "execution_count": 1,
   "metadata": {},
   "outputs": [],
   "source": [
    "import pandas as pd\n",
    "import numpy as np\n",
    "import matplotlib.pyplot as plt"
   ]
  },
  {
   "cell_type": "code",
   "execution_count": null,
   "metadata": {},
   "outputs": [],
   "source": [
    "'''Exercício 4 da aula ! - Plotando Gráfico '''"
   ]
  },
  {
   "cell_type": "code",
   "execution_count": 14,
   "metadata": {},
   "outputs": [],
   "source": [
    "Dados1 = {\n",
    "    \"Data\":[\"2023-01-01\", \"2023-01-02\", \"2023-01-03\"],\n",
    "    \"Produto\":[\"Item A\", \"Item B\", \"Item A\"],\n",
    "    \"Quantidade\":[10, 2, 8],\n",
    "    \"Valor\":[100, 50, 80]\n",
    "}\n",
    "Labels_1 = [\"1ª linha\", \"2ª linha\", \"3ª linha\"]\n",
    "Dados2 = {\n",
    "    \"Data\":[\"2023-02-01\", \"2023-02-02\", \"2023-02-03\"],\n",
    "    \"Produto\":[\"Item C\", \"Item B\", \"Item A\"],\n",
    "    \"Quantidade\":[12, 6, 3],\n",
    "    \"Valor\":[120, 60, 30]\n",
    "}\n",
    "Labels_2 = [\"1ª linha\", \"2ª linha\", \"3ª linha\"]"
   ]
  },
  {
   "cell_type": "code",
   "execution_count": 15,
   "metadata": {},
   "outputs": [],
   "source": [
    "Df_Dados1 = pd.DataFrame(Dados1, index=Labels_1)\n",
    "Df_Dados2 = pd.DataFrame(Dados2, index=Labels_2)"
   ]
  },
  {
   "cell_type": "code",
   "execution_count": 16,
   "metadata": {},
   "outputs": [
    {
     "name": "stdout",
     "output_type": "stream",
     "text": [
      "                Data Produto  Quantidade  Valor\n",
      "1ª linha  2023-01-01  Item A          10    100\n",
      "2ª linha  2023-01-02  Item B           2     50\n",
      "3ª linha  2023-01-03  Item A           8     80\n",
      "                Data Produto  Quantidade  Valor\n",
      "1ª linha  2023-02-01  Item C          12    120\n",
      "2ª linha  2023-02-02  Item B           6     60\n",
      "3ª linha  2023-02-03  Item A           3     30\n"
     ]
    }
   ],
   "source": [
    "print(Df_Dados1.head())\n",
    "print(Df_Dados2.head())"
   ]
  },
  {
   "cell_type": "code",
   "execution_count": 17,
   "metadata": {},
   "outputs": [],
   "source": [
    "DF_d1_d2 = pd.concat([Df_Dados1, Df_Dados2])"
   ]
  },
  {
   "cell_type": "code",
   "execution_count": 18,
   "metadata": {},
   "outputs": [
    {
     "data": {
      "text/html": [
       "<div>\n",
       "<style scoped>\n",
       "    .dataframe tbody tr th:only-of-type {\n",
       "        vertical-align: middle;\n",
       "    }\n",
       "\n",
       "    .dataframe tbody tr th {\n",
       "        vertical-align: top;\n",
       "    }\n",
       "\n",
       "    .dataframe thead th {\n",
       "        text-align: right;\n",
       "    }\n",
       "</style>\n",
       "<table border=\"1\" class=\"dataframe\">\n",
       "  <thead>\n",
       "    <tr style=\"text-align: right;\">\n",
       "      <th></th>\n",
       "      <th>Data</th>\n",
       "      <th>Produto</th>\n",
       "      <th>Quantidade</th>\n",
       "      <th>Valor</th>\n",
       "    </tr>\n",
       "  </thead>\n",
       "  <tbody>\n",
       "    <tr>\n",
       "      <th>1ª linha</th>\n",
       "      <td>2023-01-01</td>\n",
       "      <td>Item A</td>\n",
       "      <td>10</td>\n",
       "      <td>100</td>\n",
       "    </tr>\n",
       "    <tr>\n",
       "      <th>2ª linha</th>\n",
       "      <td>2023-01-02</td>\n",
       "      <td>Item B</td>\n",
       "      <td>2</td>\n",
       "      <td>50</td>\n",
       "    </tr>\n",
       "    <tr>\n",
       "      <th>3ª linha</th>\n",
       "      <td>2023-01-03</td>\n",
       "      <td>Item A</td>\n",
       "      <td>8</td>\n",
       "      <td>80</td>\n",
       "    </tr>\n",
       "    <tr>\n",
       "      <th>1ª linha</th>\n",
       "      <td>2023-02-01</td>\n",
       "      <td>Item C</td>\n",
       "      <td>12</td>\n",
       "      <td>120</td>\n",
       "    </tr>\n",
       "    <tr>\n",
       "      <th>2ª linha</th>\n",
       "      <td>2023-02-02</td>\n",
       "      <td>Item B</td>\n",
       "      <td>6</td>\n",
       "      <td>60</td>\n",
       "    </tr>\n",
       "  </tbody>\n",
       "</table>\n",
       "</div>"
      ],
      "text/plain": [
       "                Data Produto  Quantidade  Valor\n",
       "1ª linha  2023-01-01  Item A          10    100\n",
       "2ª linha  2023-01-02  Item B           2     50\n",
       "3ª linha  2023-01-03  Item A           8     80\n",
       "1ª linha  2023-02-01  Item C          12    120\n",
       "2ª linha  2023-02-02  Item B           6     60"
      ]
     },
     "execution_count": 18,
     "metadata": {},
     "output_type": "execute_result"
    }
   ],
   "source": [
    "DF_d1_d2.head()"
   ]
  },
  {
   "cell_type": "code",
   "execution_count": 19,
   "metadata": {},
   "outputs": [
    {
     "data": {
      "text/plain": [
       "<matplotlib.legend.Legend at 0x2084e125bd0>"
      ]
     },
     "execution_count": 19,
     "metadata": {},
     "output_type": "execute_result"
    },
    {
     "data": {
      "image/png": "[encoded data removed]",
      "text/plain": [
       "<Figure size 1000x800 with 1 Axes>"
      ]
     },
     "metadata": {},
     "output_type": "display_data"
    }
   ],
   "source": [
    "plt.figure(figsize=(10,8)) # Aumenta o tamanho do grafico\n",
    "plt.bar(DF_d1_d2['Produto'], DF_d1_d2['Quantidade'], color='red')\n",
    "plt.xlabel(\"Nome do Produto\")\n",
    "plt.ylabel(\"Quantidade\")\n",
    "plt.title(\"Produtos x quantidade de vendas\")\n",
    "plt.legend(\"Produtos\", loc=\"upper right\") # Adiciona uma legenda"
   ]
  }
 ],
 "metadata": {
  "kernelspec": {
   "display_name": "Python 3",
   "language": "python",
   "name": "python3"
  },
  "language_info": {
   "codemirror_mode": {
    "name": "ipython",
    "version": 3
   },
   "file_extension": ".py",
   "mimetype": "text/x-python",
   "name": "python",
   "nbconvert_exporter": "python",
   "pygments_lexer": "ipython3",
   "version": "3.12.5"
  }
 },
 "nbformat": 4,
 "nbformat_minor": 2
}
