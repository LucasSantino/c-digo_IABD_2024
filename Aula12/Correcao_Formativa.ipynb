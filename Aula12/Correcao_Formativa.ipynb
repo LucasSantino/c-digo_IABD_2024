{
 "cells": [
  {
   "cell_type": "markdown",
   "metadata": {},
   "source": [
    "Correção da Formativa"
   ]
  },
  {
   "cell_type": "code",
   "execution_count": null,
   "metadata": {},
   "outputs": [],
   "source": [
    "import numpy as np #importa a biblioteca numpy\n",
    "from sklearn.model_selection import train_test_split #importa biblioteca de testes\n",
    "from sklearn.tree import DecisionTreeClassifier #importa a arvore de decisão\n",
    "from sklearn import tree #importa a função tree para plotar a arvore\n",
    "from sklearn.metrics import accuracy_score #métrica de ácuracia do algoritimo\n",
    "from sklearn.metrics import confusion_matrix # importa matiz de confusão\n",
    "import pandas as pd #importa a biblioteca pandas\n",
    "import matplotlib.pyplot as plt # importa a matplotlib\n",
    "import seaborn as sns # importa a seaborn\n",
    "precision_score,f1_score, confusion_matrix"
   ]
  }
 ],
 "metadata": {
  "kernelspec": {
   "display_name": "Python 3",
   "language": "python",
   "name": "python3"
  },
  "language_info": {
   "codemirror_mode": {
    "name": "ipython",
    "version": 3
   },
   "file_extension": ".py",
   "mimetype": "text/x-python",
   "name": "python",
   "nbconvert_exporter": "python",
   "pygments_lexer": "ipython3",
   "version": "3.11.4"
  }
 },
 "nbformat": 4,
 "nbformat_minor": 2
}
